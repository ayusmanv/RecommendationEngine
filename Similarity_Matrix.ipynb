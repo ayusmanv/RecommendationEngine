{
 "cells": [
  {
   "metadata": {},
   "cell_type": "markdown",
   "source": [
    "# Recommendation Engine Using Similarity Matrix\n",
    "#### Overview\n",
    "This is a recommendation engine using Similarity Matrix. The dataset I am using is the movie dataset.\n",
    "The goal is to use the different text columns available in the dataset to build a similarity matrix using NLP.\n",
    "The recommendation system like this one can be used for streaming services. Other real world use case can be food delivery app etc. \n",
    "#### Importing required packages"
   ],
   "id": "d243a9d606aef362"
  },
  {
   "cell_type": "code",
   "id": "initial_id",
   "metadata": {
    "collapsed": true,
    "ExecuteTime": {
     "end_time": "2024-10-07T22:01:10.047030Z",
     "start_time": "2024-10-07T22:01:10.035406Z"
    }
   },
   "source": [
    "import pandas as pd\n",
    "from IPython.display import display\n",
    "from sklearn.feature_extraction.text import TfidfVectorizer  \n",
    "from  sklearn.metrics.pairwise import linear_kernel\n",
    "import ast"
   ],
   "outputs": [],
   "execution_count": 16
  },
  {
   "metadata": {},
   "cell_type": "markdown",
   "source": "#### Reading the dataset",
   "id": "80c3caf93962bffc"
  },
  {
   "metadata": {
    "ExecuteTime": {
     "end_time": "2024-10-07T22:01:10.154514Z",
     "start_time": "2024-10-07T22:01:10.060113Z"
    }
   },
   "cell_type": "code",
   "source": "movies = pd.read_csv('data\\movies.csv')",
   "id": "20c1281e8fbcdb59",
   "outputs": [],
   "execution_count": 17
  },
  {
   "metadata": {},
   "cell_type": "markdown",
   "source": [
    "#### EDA\n",
    "First step would be to do some Exploratory Data Analysis"
   ],
   "id": "d95455fd02d5929d"
  },
  {
   "metadata": {
    "ExecuteTime": {
     "end_time": "2024-10-07T22:01:10.216081Z",
     "start_time": "2024-10-07T22:01:10.186206Z"
    }
   },
   "cell_type": "code",
   "source": [
    "#checking table structure\n",
    "movies.info()"
   ],
   "id": "edaf1f68310d763d",
   "outputs": [
    {
     "name": "stdout",
     "output_type": "stream",
     "text": [
      "<class 'pandas.core.frame.DataFrame'>\n",
      "RangeIndex: 4803 entries, 0 to 4802\n",
      "Data columns (total 20 columns):\n",
      " #   Column                Non-Null Count  Dtype  \n",
      "---  ------                --------------  -----  \n",
      " 0   budget                4803 non-null   int64  \n",
      " 1   genres                4803 non-null   object \n",
      " 2   homepage              1712 non-null   object \n",
      " 3   id                    4803 non-null   int64  \n",
      " 4   keywords              4803 non-null   object \n",
      " 5   original_language     4803 non-null   object \n",
      " 6   original_title        4803 non-null   object \n",
      " 7   overview              4800 non-null   object \n",
      " 8   popularity            4803 non-null   float64\n",
      " 9   production_companies  4803 non-null   object \n",
      " 10  production_countries  4803 non-null   object \n",
      " 11  release_date          4802 non-null   object \n",
      " 12  revenue               4803 non-null   int64  \n",
      " 13  runtime               4801 non-null   float64\n",
      " 14  spoken_languages      4803 non-null   object \n",
      " 15  status                4803 non-null   object \n",
      " 16  tagline               3959 non-null   object \n",
      " 17  title                 4803 non-null   object \n",
      " 18  vote_average          4803 non-null   float64\n",
      " 19  vote_count            4803 non-null   int64  \n",
      "dtypes: float64(3), int64(4), object(13)\n",
      "memory usage: 750.6+ KB\n"
     ]
    }
   ],
   "execution_count": 18
  },
  {
   "metadata": {},
   "cell_type": "markdown",
   "source": "From the dataset I can see that except, homepage and tagline most of the data is complete (runtime, release date do have 1 and 2 missing data, but is negligible for dataset of this size)",
   "id": "ed402f1648d4c672"
  },
  {
   "metadata": {
    "ExecuteTime": {
     "end_time": "2024-10-07T22:01:10.262647Z",
     "start_time": "2024-10-07T22:01:10.247935Z"
    }
   },
   "cell_type": "code",
   "source": "display(movies.head())",
   "id": "20f69210bef133a3",
   "outputs": [
    {
     "data": {
      "text/plain": [
       "      budget                                             genres  \\\n",
       "0  237000000  [{\"id\": 28, \"name\": \"Action\"}, {\"id\": 12, \"nam...   \n",
       "1  300000000  [{\"id\": 12, \"name\": \"Adventure\"}, {\"id\": 14, \"...   \n",
       "2  245000000  [{\"id\": 28, \"name\": \"Action\"}, {\"id\": 12, \"nam...   \n",
       "3  250000000  [{\"id\": 28, \"name\": \"Action\"}, {\"id\": 80, \"nam...   \n",
       "4  260000000  [{\"id\": 28, \"name\": \"Action\"}, {\"id\": 12, \"nam...   \n",
       "\n",
       "                                       homepage      id  \\\n",
       "0                   http://www.avatarmovie.com/   19995   \n",
       "1  http://disney.go.com/disneypictures/pirates/     285   \n",
       "2   http://www.sonypictures.com/movies/spectre/  206647   \n",
       "3            http://www.thedarkknightrises.com/   49026   \n",
       "4          http://movies.disney.com/john-carter   49529   \n",
       "\n",
       "                                            keywords original_language  \\\n",
       "0  [{\"id\": 1463, \"name\": \"culture clash\"}, {\"id\":...                en   \n",
       "1  [{\"id\": 270, \"name\": \"ocean\"}, {\"id\": 726, \"na...                en   \n",
       "2  [{\"id\": 470, \"name\": \"spy\"}, {\"id\": 818, \"name...                en   \n",
       "3  [{\"id\": 849, \"name\": \"dc comics\"}, {\"id\": 853,...                en   \n",
       "4  [{\"id\": 818, \"name\": \"based on novel\"}, {\"id\":...                en   \n",
       "\n",
       "                             original_title  \\\n",
       "0                                    Avatar   \n",
       "1  Pirates of the Caribbean: At World's End   \n",
       "2                                   Spectre   \n",
       "3                     The Dark Knight Rises   \n",
       "4                               John Carter   \n",
       "\n",
       "                                            overview  popularity  \\\n",
       "0  In the 22nd century, a paraplegic Marine is di...  150.437577   \n",
       "1  Captain Barbossa, long believed to be dead, ha...  139.082615   \n",
       "2  A cryptic message from Bond’s past sends him o...  107.376788   \n",
       "3  Following the death of District Attorney Harve...  112.312950   \n",
       "4  John Carter is a war-weary, former military ca...   43.926995   \n",
       "\n",
       "                                production_companies  \\\n",
       "0  [{\"name\": \"Ingenious Film Partners\", \"id\": 289...   \n",
       "1  [{\"name\": \"Walt Disney Pictures\", \"id\": 2}, {\"...   \n",
       "2  [{\"name\": \"Columbia Pictures\", \"id\": 5}, {\"nam...   \n",
       "3  [{\"name\": \"Legendary Pictures\", \"id\": 923}, {\"...   \n",
       "4        [{\"name\": \"Walt Disney Pictures\", \"id\": 2}]   \n",
       "\n",
       "                                production_countries release_date     revenue  \\\n",
       "0  [{\"iso_3166_1\": \"US\", \"name\": \"United States o...   2009-12-10  2787965087   \n",
       "1  [{\"iso_3166_1\": \"US\", \"name\": \"United States o...   2007-05-19   961000000   \n",
       "2  [{\"iso_3166_1\": \"GB\", \"name\": \"United Kingdom\"...   2015-10-26   880674609   \n",
       "3  [{\"iso_3166_1\": \"US\", \"name\": \"United States o...   2012-07-16  1084939099   \n",
       "4  [{\"iso_3166_1\": \"US\", \"name\": \"United States o...   2012-03-07   284139100   \n",
       "\n",
       "   runtime                                   spoken_languages    status  \\\n",
       "0    162.0  [{\"iso_639_1\": \"en\", \"name\": \"English\"}, {\"iso...  Released   \n",
       "1    169.0           [{\"iso_639_1\": \"en\", \"name\": \"English\"}]  Released   \n",
       "2    148.0  [{\"iso_639_1\": \"fr\", \"name\": \"Fran\\u00e7ais\"},...  Released   \n",
       "3    165.0           [{\"iso_639_1\": \"en\", \"name\": \"English\"}]  Released   \n",
       "4    132.0           [{\"iso_639_1\": \"en\", \"name\": \"English\"}]  Released   \n",
       "\n",
       "                                          tagline  \\\n",
       "0                     Enter the World of Pandora.   \n",
       "1  At the end of the world, the adventure begins.   \n",
       "2                           A Plan No One Escapes   \n",
       "3                                 The Legend Ends   \n",
       "4            Lost in our world, found in another.   \n",
       "\n",
       "                                      title  vote_average  vote_count  \n",
       "0                                    Avatar           7.2       11800  \n",
       "1  Pirates of the Caribbean: At World's End           6.9        4500  \n",
       "2                                   Spectre           6.3        4466  \n",
       "3                     The Dark Knight Rises           7.6        9106  \n",
       "4                               John Carter           6.1        2124  "
      ],
      "text/html": [
       "<div>\n",
       "<style scoped>\n",
       "    .dataframe tbody tr th:only-of-type {\n",
       "        vertical-align: middle;\n",
       "    }\n",
       "\n",
       "    .dataframe tbody tr th {\n",
       "        vertical-align: top;\n",
       "    }\n",
       "\n",
       "    .dataframe thead th {\n",
       "        text-align: right;\n",
       "    }\n",
       "</style>\n",
       "<table border=\"1\" class=\"dataframe\">\n",
       "  <thead>\n",
       "    <tr style=\"text-align: right;\">\n",
       "      <th></th>\n",
       "      <th>budget</th>\n",
       "      <th>genres</th>\n",
       "      <th>homepage</th>\n",
       "      <th>id</th>\n",
       "      <th>keywords</th>\n",
       "      <th>original_language</th>\n",
       "      <th>original_title</th>\n",
       "      <th>overview</th>\n",
       "      <th>popularity</th>\n",
       "      <th>production_companies</th>\n",
       "      <th>production_countries</th>\n",
       "      <th>release_date</th>\n",
       "      <th>revenue</th>\n",
       "      <th>runtime</th>\n",
       "      <th>spoken_languages</th>\n",
       "      <th>status</th>\n",
       "      <th>tagline</th>\n",
       "      <th>title</th>\n",
       "      <th>vote_average</th>\n",
       "      <th>vote_count</th>\n",
       "    </tr>\n",
       "  </thead>\n",
       "  <tbody>\n",
       "    <tr>\n",
       "      <th>0</th>\n",
       "      <td>237000000</td>\n",
       "      <td>[{\"id\": 28, \"name\": \"Action\"}, {\"id\": 12, \"nam...</td>\n",
       "      <td>http://www.avatarmovie.com/</td>\n",
       "      <td>19995</td>\n",
       "      <td>[{\"id\": 1463, \"name\": \"culture clash\"}, {\"id\":...</td>\n",
       "      <td>en</td>\n",
       "      <td>Avatar</td>\n",
       "      <td>In the 22nd century, a paraplegic Marine is di...</td>\n",
       "      <td>150.437577</td>\n",
       "      <td>[{\"name\": \"Ingenious Film Partners\", \"id\": 289...</td>\n",
       "      <td>[{\"iso_3166_1\": \"US\", \"name\": \"United States o...</td>\n",
       "      <td>2009-12-10</td>\n",
       "      <td>2787965087</td>\n",
       "      <td>162.0</td>\n",
       "      <td>[{\"iso_639_1\": \"en\", \"name\": \"English\"}, {\"iso...</td>\n",
       "      <td>Released</td>\n",
       "      <td>Enter the World of Pandora.</td>\n",
       "      <td>Avatar</td>\n",
       "      <td>7.2</td>\n",
       "      <td>11800</td>\n",
       "    </tr>\n",
       "    <tr>\n",
       "      <th>1</th>\n",
       "      <td>300000000</td>\n",
       "      <td>[{\"id\": 12, \"name\": \"Adventure\"}, {\"id\": 14, \"...</td>\n",
       "      <td>http://disney.go.com/disneypictures/pirates/</td>\n",
       "      <td>285</td>\n",
       "      <td>[{\"id\": 270, \"name\": \"ocean\"}, {\"id\": 726, \"na...</td>\n",
       "      <td>en</td>\n",
       "      <td>Pirates of the Caribbean: At World's End</td>\n",
       "      <td>Captain Barbossa, long believed to be dead, ha...</td>\n",
       "      <td>139.082615</td>\n",
       "      <td>[{\"name\": \"Walt Disney Pictures\", \"id\": 2}, {\"...</td>\n",
       "      <td>[{\"iso_3166_1\": \"US\", \"name\": \"United States o...</td>\n",
       "      <td>2007-05-19</td>\n",
       "      <td>961000000</td>\n",
       "      <td>169.0</td>\n",
       "      <td>[{\"iso_639_1\": \"en\", \"name\": \"English\"}]</td>\n",
       "      <td>Released</td>\n",
       "      <td>At the end of the world, the adventure begins.</td>\n",
       "      <td>Pirates of the Caribbean: At World's End</td>\n",
       "      <td>6.9</td>\n",
       "      <td>4500</td>\n",
       "    </tr>\n",
       "    <tr>\n",
       "      <th>2</th>\n",
       "      <td>245000000</td>\n",
       "      <td>[{\"id\": 28, \"name\": \"Action\"}, {\"id\": 12, \"nam...</td>\n",
       "      <td>http://www.sonypictures.com/movies/spectre/</td>\n",
       "      <td>206647</td>\n",
       "      <td>[{\"id\": 470, \"name\": \"spy\"}, {\"id\": 818, \"name...</td>\n",
       "      <td>en</td>\n",
       "      <td>Spectre</td>\n",
       "      <td>A cryptic message from Bond’s past sends him o...</td>\n",
       "      <td>107.376788</td>\n",
       "      <td>[{\"name\": \"Columbia Pictures\", \"id\": 5}, {\"nam...</td>\n",
       "      <td>[{\"iso_3166_1\": \"GB\", \"name\": \"United Kingdom\"...</td>\n",
       "      <td>2015-10-26</td>\n",
       "      <td>880674609</td>\n",
       "      <td>148.0</td>\n",
       "      <td>[{\"iso_639_1\": \"fr\", \"name\": \"Fran\\u00e7ais\"},...</td>\n",
       "      <td>Released</td>\n",
       "      <td>A Plan No One Escapes</td>\n",
       "      <td>Spectre</td>\n",
       "      <td>6.3</td>\n",
       "      <td>4466</td>\n",
       "    </tr>\n",
       "    <tr>\n",
       "      <th>3</th>\n",
       "      <td>250000000</td>\n",
       "      <td>[{\"id\": 28, \"name\": \"Action\"}, {\"id\": 80, \"nam...</td>\n",
       "      <td>http://www.thedarkknightrises.com/</td>\n",
       "      <td>49026</td>\n",
       "      <td>[{\"id\": 849, \"name\": \"dc comics\"}, {\"id\": 853,...</td>\n",
       "      <td>en</td>\n",
       "      <td>The Dark Knight Rises</td>\n",
       "      <td>Following the death of District Attorney Harve...</td>\n",
       "      <td>112.312950</td>\n",
       "      <td>[{\"name\": \"Legendary Pictures\", \"id\": 923}, {\"...</td>\n",
       "      <td>[{\"iso_3166_1\": \"US\", \"name\": \"United States o...</td>\n",
       "      <td>2012-07-16</td>\n",
       "      <td>1084939099</td>\n",
       "      <td>165.0</td>\n",
       "      <td>[{\"iso_639_1\": \"en\", \"name\": \"English\"}]</td>\n",
       "      <td>Released</td>\n",
       "      <td>The Legend Ends</td>\n",
       "      <td>The Dark Knight Rises</td>\n",
       "      <td>7.6</td>\n",
       "      <td>9106</td>\n",
       "    </tr>\n",
       "    <tr>\n",
       "      <th>4</th>\n",
       "      <td>260000000</td>\n",
       "      <td>[{\"id\": 28, \"name\": \"Action\"}, {\"id\": 12, \"nam...</td>\n",
       "      <td>http://movies.disney.com/john-carter</td>\n",
       "      <td>49529</td>\n",
       "      <td>[{\"id\": 818, \"name\": \"based on novel\"}, {\"id\":...</td>\n",
       "      <td>en</td>\n",
       "      <td>John Carter</td>\n",
       "      <td>John Carter is a war-weary, former military ca...</td>\n",
       "      <td>43.926995</td>\n",
       "      <td>[{\"name\": \"Walt Disney Pictures\", \"id\": 2}]</td>\n",
       "      <td>[{\"iso_3166_1\": \"US\", \"name\": \"United States o...</td>\n",
       "      <td>2012-03-07</td>\n",
       "      <td>284139100</td>\n",
       "      <td>132.0</td>\n",
       "      <td>[{\"iso_639_1\": \"en\", \"name\": \"English\"}]</td>\n",
       "      <td>Released</td>\n",
       "      <td>Lost in our world, found in another.</td>\n",
       "      <td>John Carter</td>\n",
       "      <td>6.1</td>\n",
       "      <td>2124</td>\n",
       "    </tr>\n",
       "  </tbody>\n",
       "</table>\n",
       "</div>"
      ]
     },
     "metadata": {},
     "output_type": "display_data"
    }
   ],
   "execution_count": 19
  },
  {
   "metadata": {},
   "cell_type": "markdown",
   "source": [
    "Let's look at the columns that may be useful in describing the movie.\n",
    "Following columns maybe have characteristic that would define the movie:\n",
    "1. genres\n",
    "2. keywords\n",
    "3. original_title\n",
    "4. overview\n",
    "5. production_companies\n",
    "6. production_countries\n",
    "7. spoken_languages\n",
    "8. tagline\n",
    "\n",
    "Following were the columns from above list which were in json format. These columns have 'name' key, thus I  used that key to extract that information."
   ],
   "id": "76d00dd70728c535"
  },
  {
   "metadata": {
    "ExecuteTime": {
     "end_time": "2024-10-07T22:01:10.309426Z",
     "start_time": "2024-10-07T22:01:10.295900Z"
    }
   },
   "cell_type": "code",
   "source": [
    "cols_with_json = ['genres', 'keywords','production_companies','production_countries',\n",
    "       'spoken_languages']"
   ],
   "id": "112c6e59ec4fc50f",
   "outputs": [],
   "execution_count": 20
  },
  {
   "metadata": {},
   "cell_type": "markdown",
   "source": [
    "#### Data Preparation and Feature Engineering\n",
    "Following code will extract the names from the above column and store it in new columns respectively"
   ],
   "id": "89550966eb3dd4e2"
  },
  {
   "metadata": {
    "ExecuteTime": {
     "end_time": "2024-10-07T22:01:11.080211Z",
     "start_time": "2024-10-07T22:01:10.421063Z"
    }
   },
   "cell_type": "code",
   "source": [
    "cols_with_description = []\n",
    "try:\n",
    "    for col in cols_with_json:\n",
    "        new_column_name = col + '_name'\n",
    "        movies[col] = movies[col].apply(ast.literal_eval)\n",
    "        movies[new_column_name] = movies[col].apply(lambda x:','.join([item['name'] for item in x]))\n",
    "        cols_with_description.append(new_column_name)\n",
    "except Exception as e:\n",
    "    print(e)"
   ],
   "id": "f2badf593d56b826",
   "outputs": [],
   "execution_count": 21
  },
  {
   "metadata": {
    "ExecuteTime": {
     "end_time": "2024-10-07T22:01:11.142294Z",
     "start_time": "2024-10-07T22:01:11.127788Z"
    }
   },
   "cell_type": "code",
   "source": "display(movies[cols_with_description])",
   "id": "c53761a186a10366",
   "outputs": [
    {
     "data": {
      "text/plain": [
       "                                   genres_name  \\\n",
       "0     Action,Adventure,Fantasy,Science Fiction   \n",
       "1                     Adventure,Fantasy,Action   \n",
       "2                       Action,Adventure,Crime   \n",
       "3                  Action,Crime,Drama,Thriller   \n",
       "4             Action,Adventure,Science Fiction   \n",
       "...                                        ...   \n",
       "4798                     Action,Crime,Thriller   \n",
       "4799                            Comedy,Romance   \n",
       "4800             Comedy,Drama,Romance,TV Movie   \n",
       "4801                                             \n",
       "4802                               Documentary   \n",
       "\n",
       "                                          keywords_name  \\\n",
       "0     culture clash,future,space war,space colony,so...   \n",
       "1     ocean,drug abuse,exotic island,east india trad...   \n",
       "2     spy,based on novel,secret agent,sequel,mi6,bri...   \n",
       "3     dc comics,crime fighter,terrorist,secret ident...   \n",
       "4     based on novel,mars,medallion,space travel,pri...   \n",
       "...                                                 ...   \n",
       "4798  united states–mexico barrier,legs,arms,paper k...   \n",
       "4799                                                      \n",
       "4800  date,love at first sight,narration,investigati...   \n",
       "4801                                                      \n",
       "4802               obsession,camcorder,crush,dream girl   \n",
       "\n",
       "                              production_companies_name  \\\n",
       "0     Ingenious Film Partners,Twentieth Century Fox ...   \n",
       "1     Walt Disney Pictures,Jerry Bruckheimer Films,S...   \n",
       "2                          Columbia Pictures,Danjaq,B24   \n",
       "3     Legendary Pictures,Warner Bros.,DC Entertainme...   \n",
       "4                                  Walt Disney Pictures   \n",
       "...                                                 ...   \n",
       "4798                                  Columbia Pictures   \n",
       "4799                                                      \n",
       "4800  Front Street Pictures,Muse Entertainment Enter...   \n",
       "4801                                                      \n",
       "4802          rusty bear entertainment,lucky crow films   \n",
       "\n",
       "                    production_countries_name  \\\n",
       "0     United States of America,United Kingdom   \n",
       "1                    United States of America   \n",
       "2     United Kingdom,United States of America   \n",
       "3                    United States of America   \n",
       "4                    United States of America   \n",
       "...                                       ...   \n",
       "4798          Mexico,United States of America   \n",
       "4799                                            \n",
       "4800                 United States of America   \n",
       "4801           United States of America,China   \n",
       "4802                 United States of America   \n",
       "\n",
       "                          spoken_languages_name  \n",
       "0                               English,Español  \n",
       "1                                       English  \n",
       "2     Français,English,Español,Italiano,Deutsch  \n",
       "3                                       English  \n",
       "4                                       English  \n",
       "...                                         ...  \n",
       "4798                                    Español  \n",
       "4799                                             \n",
       "4800                                    English  \n",
       "4801                                    English  \n",
       "4802                                    English  \n",
       "\n",
       "[4803 rows x 5 columns]"
      ],
      "text/html": [
       "<div>\n",
       "<style scoped>\n",
       "    .dataframe tbody tr th:only-of-type {\n",
       "        vertical-align: middle;\n",
       "    }\n",
       "\n",
       "    .dataframe tbody tr th {\n",
       "        vertical-align: top;\n",
       "    }\n",
       "\n",
       "    .dataframe thead th {\n",
       "        text-align: right;\n",
       "    }\n",
       "</style>\n",
       "<table border=\"1\" class=\"dataframe\">\n",
       "  <thead>\n",
       "    <tr style=\"text-align: right;\">\n",
       "      <th></th>\n",
       "      <th>genres_name</th>\n",
       "      <th>keywords_name</th>\n",
       "      <th>production_companies_name</th>\n",
       "      <th>production_countries_name</th>\n",
       "      <th>spoken_languages_name</th>\n",
       "    </tr>\n",
       "  </thead>\n",
       "  <tbody>\n",
       "    <tr>\n",
       "      <th>0</th>\n",
       "      <td>Action,Adventure,Fantasy,Science Fiction</td>\n",
       "      <td>culture clash,future,space war,space colony,so...</td>\n",
       "      <td>Ingenious Film Partners,Twentieth Century Fox ...</td>\n",
       "      <td>United States of America,United Kingdom</td>\n",
       "      <td>English,Español</td>\n",
       "    </tr>\n",
       "    <tr>\n",
       "      <th>1</th>\n",
       "      <td>Adventure,Fantasy,Action</td>\n",
       "      <td>ocean,drug abuse,exotic island,east india trad...</td>\n",
       "      <td>Walt Disney Pictures,Jerry Bruckheimer Films,S...</td>\n",
       "      <td>United States of America</td>\n",
       "      <td>English</td>\n",
       "    </tr>\n",
       "    <tr>\n",
       "      <th>2</th>\n",
       "      <td>Action,Adventure,Crime</td>\n",
       "      <td>spy,based on novel,secret agent,sequel,mi6,bri...</td>\n",
       "      <td>Columbia Pictures,Danjaq,B24</td>\n",
       "      <td>United Kingdom,United States of America</td>\n",
       "      <td>Français,English,Español,Italiano,Deutsch</td>\n",
       "    </tr>\n",
       "    <tr>\n",
       "      <th>3</th>\n",
       "      <td>Action,Crime,Drama,Thriller</td>\n",
       "      <td>dc comics,crime fighter,terrorist,secret ident...</td>\n",
       "      <td>Legendary Pictures,Warner Bros.,DC Entertainme...</td>\n",
       "      <td>United States of America</td>\n",
       "      <td>English</td>\n",
       "    </tr>\n",
       "    <tr>\n",
       "      <th>4</th>\n",
       "      <td>Action,Adventure,Science Fiction</td>\n",
       "      <td>based on novel,mars,medallion,space travel,pri...</td>\n",
       "      <td>Walt Disney Pictures</td>\n",
       "      <td>United States of America</td>\n",
       "      <td>English</td>\n",
       "    </tr>\n",
       "    <tr>\n",
       "      <th>...</th>\n",
       "      <td>...</td>\n",
       "      <td>...</td>\n",
       "      <td>...</td>\n",
       "      <td>...</td>\n",
       "      <td>...</td>\n",
       "    </tr>\n",
       "    <tr>\n",
       "      <th>4798</th>\n",
       "      <td>Action,Crime,Thriller</td>\n",
       "      <td>united states–mexico barrier,legs,arms,paper k...</td>\n",
       "      <td>Columbia Pictures</td>\n",
       "      <td>Mexico,United States of America</td>\n",
       "      <td>Español</td>\n",
       "    </tr>\n",
       "    <tr>\n",
       "      <th>4799</th>\n",
       "      <td>Comedy,Romance</td>\n",
       "      <td></td>\n",
       "      <td></td>\n",
       "      <td></td>\n",
       "      <td></td>\n",
       "    </tr>\n",
       "    <tr>\n",
       "      <th>4800</th>\n",
       "      <td>Comedy,Drama,Romance,TV Movie</td>\n",
       "      <td>date,love at first sight,narration,investigati...</td>\n",
       "      <td>Front Street Pictures,Muse Entertainment Enter...</td>\n",
       "      <td>United States of America</td>\n",
       "      <td>English</td>\n",
       "    </tr>\n",
       "    <tr>\n",
       "      <th>4801</th>\n",
       "      <td></td>\n",
       "      <td></td>\n",
       "      <td></td>\n",
       "      <td>United States of America,China</td>\n",
       "      <td>English</td>\n",
       "    </tr>\n",
       "    <tr>\n",
       "      <th>4802</th>\n",
       "      <td>Documentary</td>\n",
       "      <td>obsession,camcorder,crush,dream girl</td>\n",
       "      <td>rusty bear entertainment,lucky crow films</td>\n",
       "      <td>United States of America</td>\n",
       "      <td>English</td>\n",
       "    </tr>\n",
       "  </tbody>\n",
       "</table>\n",
       "<p>4803 rows × 5 columns</p>\n",
       "</div>"
      ]
     },
     "metadata": {},
     "output_type": "display_data"
    }
   ],
   "execution_count": 22
  },
  {
   "metadata": {},
   "cell_type": "markdown",
   "source": "In the next step, I combined all the prepared text columns into one column, that's the column to build the similarity matrix.",
   "id": "cb2d89809eeab4c0"
  },
  {
   "metadata": {
    "ExecuteTime": {
     "end_time": "2024-10-07T22:01:11.219517Z",
     "start_time": "2024-10-07T22:01:11.190821Z"
    }
   },
   "cell_type": "code",
   "source": [
    "#adding other non json columns to the description column\n",
    "movies['description'] = movies['genres_name'] + movies['keywords_name']+movies['production_companies_name']+movies['production_countries_name']+movies['spoken_languages_name']+ movies['overview']+movies['original_title']+movies['tagline']"
   ],
   "id": "bfa977ecca400dd0",
   "outputs": [],
   "execution_count": 23
  },
  {
   "metadata": {
    "ExecuteTime": {
     "end_time": "2024-10-07T22:01:11.281233Z",
     "start_time": "2024-10-07T22:01:11.266616Z"
    }
   },
   "cell_type": "code",
   "source": [
    "#Since I have most data, however to be on safe side will go ahead with next step\n",
    "movies['description'] = movies['description'].fillna('')"
   ],
   "id": "252ad919f686aa1d",
   "outputs": [],
   "execution_count": 24
  },
  {
   "metadata": {},
   "cell_type": "markdown",
   "source": [
    "#### Model Building\n",
    "Sklearn's TfidfVectorizer  and Linear_Kernal were used for the Similarity Matrix.\n",
    " TfidfVectorizer, will convert a collection of raw documents to a matrix of TF-IDF (Sklearn). This basically count-vectorizer followed by TfidfTransformer\n",
    " The outcome of TfidfVectorizer matrix, which would give how a word weighs compared to other occurrence of the same word in other rows. Rarer words have more weight."
   ],
   "id": "d01880a17bf5a41d"
  },
  {
   "metadata": {
    "ExecuteTime": {
     "end_time": "2024-10-07T22:01:11.558719Z",
     "start_time": "2024-10-07T22:01:11.327930Z"
    }
   },
   "cell_type": "code",
   "source": [
    "tfidf_vectorizer = TfidfVectorizer(stop_words='english') #removing the words like a,the etc.\n",
    "tfidf_matrix = tfidf_vectorizer.fit_transform(movies['description'])"
   ],
   "id": "e8f484df7abc24fa",
   "outputs": [],
   "execution_count": 25
  },
  {
   "metadata": {},
   "cell_type": "markdown",
   "source": "Linear Kernel provided the clustering of similar movies.",
   "id": "7f9e2fa22d05d8cb"
  },
  {
   "metadata": {
    "ExecuteTime": {
     "end_time": "2024-10-07T22:01:11.978205Z",
     "start_time": "2024-10-07T22:01:11.606648Z"
    }
   },
   "cell_type": "code",
   "source": "similarity_matrix = linear_kernel(tfidf_matrix, tfidf_matrix)",
   "id": "26f07f0ef2807f0e",
   "outputs": [],
   "execution_count": 26
  },
  {
   "metadata": {
    "ExecuteTime": {
     "end_time": "2024-10-07T22:01:12.039718Z",
     "start_time": "2024-10-07T22:01:12.026074Z"
    }
   },
   "cell_type": "code",
   "source": "#similarity_matrix",
   "id": "9961f806767ee673",
   "outputs": [],
   "execution_count": 27
  },
  {
   "metadata": {},
   "cell_type": "markdown",
   "source": "Next part of the code is to transform the similarity matrix, so that the data can be easily stored in a database. The matrix will be converted into a panda dataframe and would be converted to long form.",
   "id": "8e68bea05355a69c"
  },
  {
   "metadata": {
    "ExecuteTime": {
     "end_time": "2024-10-07T22:01:12.972318Z",
     "start_time": "2024-10-07T22:01:12.086366Z"
    }
   },
   "cell_type": "code",
   "source": [
    "pd_similarity = pd.DataFrame(similarity_matrix, columns=movies['title']).reset_index(drop=True)\n",
    "pd_similarity['title'] = movies['title']\n",
    "pd_similarity_melt = pd.melt(pd_similarity, id_vars=['title'], var_name='Similar Movies', value_name='Similarity Coefficient')"
   ],
   "id": "9c401c19ca99a9f5",
   "outputs": [],
   "execution_count": 28
  },
  {
   "metadata": {},
   "cell_type": "markdown",
   "source": [
    "#### Recommendation at work.\n",
    "The below function uses the Similarity Matrix to recommend movies to the user "
   ],
   "id": "34a8056d1db2ab52"
  },
  {
   "metadata": {
    "ExecuteTime": {
     "end_time": "2024-10-07T22:01:13.034040Z",
     "start_time": "2024-10-07T22:01:13.019507Z"
    }
   },
   "cell_type": "code",
   "source": [
    "def movie_recomendation(movie_title, number_of_movies=5): \n",
    "    \"\"\"\n",
    "    This function gives the recommendation based on current selection.\n",
    "    :param movie_title: title of the movie for which it will recommend similar movies\n",
    "    :param number_of_movies: how many similar movies to recommend\n",
    "    :return: movies to recommend or if the title is not present a message stating the same\n",
    "    \"\"\"\n",
    "    #print(movie_title)\n",
    "    recommendation = pd_similarity_melt[pd_similarity_melt['title']== movie_title].sort_values('Similarity Coefficient', ascending=False)\n",
    "    final_list = recommendation.index.tolist()\n",
    "    if len(list(recommendation['Similar Movies'])) == 0:\n",
    "        return f\"No recommendation for {movie_title}\" \n",
    "    else :\n",
    "        return   recommendation['Similar Movies'][1:number_of_movies+1].reset_index(drop=True)\n",
    "        "
   ],
   "id": "beb29e9820460127",
   "outputs": [],
   "execution_count": 29
  },
  {
   "metadata": {},
   "cell_type": "markdown",
   "source": "Example of end user using the system",
   "id": "e704dbedd834ed8f"
  },
  {
   "metadata": {
    "ExecuteTime": {
     "end_time": "2024-10-07T22:01:22.668829Z",
     "start_time": "2024-10-07T22:01:13.081715Z"
    }
   },
   "cell_type": "code",
   "source": [
    "try:\n",
    "    movie_title = input('Enter movie title: ').strip()\n",
    "    how_many = int(input('How many movies to recommend: ').strip())\n",
    "\n",
    "    print(movie_recomendation(movie_title, how_many))\n",
    "except Exception as e:\n",
    "    #print(e)\n",
    "    print(\"Please enter a number in how many movies to recommend\")"
   ],
   "id": "cbd39e4543459896",
   "outputs": [
    {
     "name": "stdout",
     "output_type": "stream",
     "text": [
      "0                                    Cars 2\n",
      "1                           Bride of Chucky\n",
      "2                            McFarland, USA\n",
      "3                         The Good Dinosaur\n",
      "4     The Fast and the Furious: Tokyo Drift\n",
      "5                     The Final Destination\n",
      "6                                 Silverado\n",
      "7                  The Fast and the Furious\n",
      "8                                The Wraith\n",
      "9                     Gone in Sixty Seconds\n",
      "10                      Monsters University\n",
      "11                          Death Race 2000\n",
      "Name: Similar Movies, dtype: object\n"
     ]
    }
   ],
   "execution_count": 30
  }
 ],
 "metadata": {
  "kernelspec": {
   "display_name": "Python 3",
   "language": "python",
   "name": "python3"
  },
  "language_info": {
   "codemirror_mode": {
    "name": "ipython",
    "version": 2
   },
   "file_extension": ".py",
   "mimetype": "text/x-python",
   "name": "python",
   "nbconvert_exporter": "python",
   "pygments_lexer": "ipython2",
   "version": "2.7.6"
  }
 },
 "nbformat": 4,
 "nbformat_minor": 5
}
